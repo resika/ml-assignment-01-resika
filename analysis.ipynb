{
 "cells": [
  {
   "cell_type": "code",
   "execution_count": 25,
   "metadata": {
    "collapsed": true
   },
   "outputs": [],
   "source": [
    "import pandas as pd\n",
    "import numpy as np\n",
    "import matplotlib.pyplot as plt\n",
    "import seaborn as sns\n",
    "from sklearn.datasets import make_blobs\n",
    "from kmeans import kmeans_sk, kmeans_own\n",
    "from matplotlib import style\n",
    "style.use('ggplot')"
   ]
  },
  {
   "cell_type": "markdown",
   "source": [
    "## Analyzing sample data from Sklearn"
   ],
   "metadata": {
    "collapsed": false,
    "pycharm": {
     "name": "#%% md\n"
    }
   }
  },
  {
   "cell_type": "markdown",
   "source": [
    "### Analyzing Using sklearn kmeans implementation"
   ],
   "metadata": {
    "collapsed": false,
    "pycharm": {
     "name": "#%% md\n"
    }
   }
  },
  {
   "cell_type": "code",
   "execution_count": 26,
   "outputs": [],
   "source": [
    "X, cluster_assignments = make_blobs(n_samples=200, centers=4, cluster_std=0.60, random_state=0)"
   ],
   "metadata": {
    "collapsed": false,
    "pycharm": {
     "name": "#%%\n"
    }
   }
  },
  {
   "cell_type": "code",
   "execution_count": 27,
   "outputs": [],
   "source": [
    "kmeans_sk_test = kmeans_sk(4, 100)\n",
    "labels, centroids =kmeans_sk_test.fit(X)"
   ],
   "metadata": {
    "collapsed": false,
    "pycharm": {
     "name": "#%%\n"
    }
   }
  },
  {
   "cell_type": "code",
   "execution_count": 28,
   "outputs": [
    {
     "data": {
      "text/plain": "array([1, 3, 0, 2, 1, 0, 3, 0, 0, 0, 0, 1, 3, 3, 1, 0, 2, 2, 2, 1, 2, 3,\n       1, 3, 1, 1, 2, 1, 1, 0, 2, 0, 3, 1, 3, 0, 3, 0, 0, 2, 2, 2, 2, 0,\n       1, 3, 0, 2, 2, 0, 2, 3, 3, 2, 0, 2, 3, 1, 0, 1, 2, 0, 1, 0, 2, 0,\n       1, 2, 3, 3, 1, 1, 0, 0, 3, 2, 3, 3, 1, 1, 2, 0, 1, 3, 3, 0, 0, 1,\n       3, 3, 2, 2, 2, 0, 0, 1, 3, 2, 0, 0, 2, 1, 1, 2, 2, 3, 0, 1, 1, 0,\n       2, 3, 3, 1, 1, 0, 3, 3, 2, 0, 2, 3, 0, 1, 0, 3, 0, 3, 1, 0, 3, 1,\n       3, 2, 2, 3, 2, 2, 1, 2, 1, 3, 1, 1, 3, 1, 0, 1, 3, 2, 2, 2, 0, 3,\n       1, 0, 2, 3, 2, 1, 2, 1, 1, 3, 3, 2, 0, 1, 1, 3, 1, 0, 3, 2, 2, 2,\n       0, 0, 3, 0, 3, 1, 0, 1, 0, 3, 3, 2, 0, 2, 1, 1, 0, 2, 3, 3, 3, 0,\n       2, 1], dtype=int32)"
     },
     "execution_count": 28,
     "metadata": {},
     "output_type": "execute_result"
    }
   ],
   "source": [
    "labels"
   ],
   "metadata": {
    "collapsed": false,
    "pycharm": {
     "name": "#%%\n"
    }
   }
  },
  {
   "cell_type": "code",
   "execution_count": 29,
   "outputs": [
    {
     "data": {
      "text/plain": "array([[ 0.90793962,  4.35713791],\n       [ 2.07187892,  0.97422926],\n       [-1.34842715,  7.72096548],\n       [-1.62401415,  2.9159629 ]])"
     },
     "execution_count": 29,
     "metadata": {},
     "output_type": "execute_result"
    }
   ],
   "source": [
    "centroids"
   ],
   "metadata": {
    "collapsed": false,
    "pycharm": {
     "name": "#%%\n"
    }
   }
  },
  {
   "cell_type": "code",
   "execution_count": 30,
   "outputs": [],
   "source": [
    "# inertia = pd.DataFrame(data = [], index=range(2, 21), columns=['inertia'])\n",
    "#\n",
    "# for n_clusters in range(2, 21):\n",
    "#     kmeans = KMeans(n_clusters = n_clusters)\n",
    "#     kmeans.fit(X)\n",
    "#     inertia.loc[n_clusters] = kmeans.inertia_"
   ],
   "metadata": {
    "collapsed": false,
    "pycharm": {
     "name": "#%%\n"
    }
   }
  },
  {
   "cell_type": "code",
   "execution_count": 31,
   "outputs": [],
   "source": [
    "# inertia"
   ],
   "metadata": {
    "collapsed": false,
    "pycharm": {
     "name": "#%%\n"
    }
   }
  },
  {
   "cell_type": "code",
   "execution_count": 32,
   "outputs": [],
   "source": [
    "# inertia.plot(kind='line', y='inertia')\n",
    "# plt.show()"
   ],
   "metadata": {
    "collapsed": false,
    "pycharm": {
     "name": "#%%\n"
    }
   }
  },
  {
   "cell_type": "markdown",
   "source": [
    "### Analyzing Using our own kmeans implementation"
   ],
   "metadata": {
    "collapsed": false,
    "pycharm": {
     "name": "#%% md\n"
    }
   }
  },
  {
   "cell_type": "code",
   "execution_count": 33,
   "outputs": [
    {
     "data": {
      "text/plain": "<Figure size 432x288 with 1 Axes>",
      "image/png": "[encoded data removed]"
     },
     "metadata": {},
     "output_type": "display_data"
    }
   ],
   "source": [
    "kmeans_own_test = kmeans_own(k=4)\n",
    "out = kmeans_own_test.fit(X)\n",
    "kmeans_own_test.scatter_plot()"
   ],
   "metadata": {
    "collapsed": false,
    "pycharm": {
     "name": "#%%\n"
    }
   }
  },
  {
   "cell_type": "markdown",
   "source": [
    "## Analyzing Homework data"
   ],
   "metadata": {
    "collapsed": false,
    "pycharm": {
     "name": "#%% md\n"
    }
   }
  },
  {
   "cell_type": "code",
   "execution_count": 34,
   "outputs": [
    {
     "data": {
      "text/plain": "   rowID     hpwren_timestamp  air_pressure  air_temp  avg_wind_direction  \\\n0      0  2011-09-10 00:00:49         912.3     64.76                97.0   \n1    100  2011-09-10 01:40:49         911.8     62.96                95.0   \n2    200  2011-09-10 03:20:49         911.4     68.00                53.0   \n3    300  2011-09-10 05:00:49         911.4     64.22               191.0   \n4    400  2011-09-10 06:40:49         912.2     52.70               181.0   \n\n   avg_wind_speed  max_wind_direction  max_wind_speed  min_wind_direction  \\\n0             1.2               106.0             1.6                85.0   \n1             2.3               106.0             2.5                88.0   \n2             0.3                69.0             0.5                19.0   \n3             2.8               197.0             2.9               185.0   \n4             1.5               191.0             2.0               164.0   \n\n   min_wind_speed  rain_accumulation  rain_duration  relative_humidity  \n0             1.0                NaN            NaN               60.5  \n1             1.9                0.0            0.0               63.9  \n2             0.2                0.0            0.0               33.4  \n3             2.6                0.0            0.0               58.2  \n4             1.2                0.0            0.0               89.8  ",
      "text/html": "<div>\n<style scoped>\n    .dataframe tbody tr th:only-of-type {\n        vertical-align: middle;\n    }\n\n    .dataframe tbody tr th {\n        vertical-align: top;\n    }\n\n    .dataframe thead th {\n        text-align: right;\n    }\n</style>\n<table border=\"1\" class=\"dataframe\">\n  <thead>\n    <tr style=\"text-align: right;\">\n      <th></th>\n      <th>rowID</th>\n      <th>hpwren_timestamp</th>\n      <th>air_pressure</th>\n      <th>air_temp</th>\n      <th>avg_wind_direction</th>\n      <th>avg_wind_speed</th>\n      <th>max_wind_direction</th>\n      <th>max_wind_speed</th>\n      <th>min_wind_direction</th>\n      <th>min_wind_speed</th>\n      <th>rain_accumulation</th>\n      <th>rain_duration</th>\n      <th>relative_humidity</th>\n    </tr>\n  </thead>\n  <tbody>\n    <tr>\n      <th>0</th>\n      <td>0</td>\n      <td>2011-09-10 00:00:49</td>\n      <td>912.3</td>\n      <td>64.76</td>\n      <td>97.0</td>\n      <td>1.2</td>\n      <td>106.0</td>\n      <td>1.6</td>\n      <td>85.0</td>\n      <td>1.0</td>\n      <td>NaN</td>\n      <td>NaN</td>\n      <td>60.5</td>\n    </tr>\n    <tr>\n      <th>1</th>\n      <td>100</td>\n      <td>2011-09-10 01:40:49</td>\n      <td>911.8</td>\n      <td>62.96</td>\n      <td>95.0</td>\n      <td>2.3</td>\n      <td>106.0</td>\n      <td>2.5</td>\n      <td>88.0</td>\n      <td>1.9</td>\n      <td>0.0</td>\n      <td>0.0</td>\n      <td>63.9</td>\n    </tr>\n    <tr>\n      <th>2</th>\n      <td>200</td>\n      <td>2011-09-10 03:20:49</td>\n      <td>911.4</td>\n      <td>68.00</td>\n      <td>53.0</td>\n      <td>0.3</td>\n      <td>69.0</td>\n      <td>0.5</td>\n      <td>19.0</td>\n      <td>0.2</td>\n      <td>0.0</td>\n      <td>0.0</td>\n      <td>33.4</td>\n    </tr>\n    <tr>\n      <th>3</th>\n      <td>300</td>\n      <td>2011-09-10 05:00:49</td>\n      <td>911.4</td>\n      <td>64.22</td>\n      <td>191.0</td>\n      <td>2.8</td>\n      <td>197.0</td>\n      <td>2.9</td>\n      <td>185.0</td>\n      <td>2.6</td>\n      <td>0.0</td>\n      <td>0.0</td>\n      <td>58.2</td>\n    </tr>\n    <tr>\n      <th>4</th>\n      <td>400</td>\n      <td>2011-09-10 06:40:49</td>\n      <td>912.2</td>\n      <td>52.70</td>\n      <td>181.0</td>\n      <td>1.5</td>\n      <td>191.0</td>\n      <td>2.0</td>\n      <td>164.0</td>\n      <td>1.2</td>\n      <td>0.0</td>\n      <td>0.0</td>\n      <td>89.8</td>\n    </tr>\n  </tbody>\n</table>\n</div>"
     },
     "execution_count": 34,
     "metadata": {},
     "output_type": "execute_result"
    }
   ],
   "source": [
    "data = pd.read_csv('historical-weather.csv')\n",
    "data.head()"
   ],
   "metadata": {
    "collapsed": false,
    "pycharm": {
     "name": "#%%\n"
    }
   }
  },
  {
   "cell_type": "code",
   "execution_count": 35,
   "outputs": [
    {
     "data": {
      "text/plain": "      hpwren_timestamp  air_temp\n0  2011-09-10 00:00:49     64.76\n1  2011-09-10 01:40:49     62.96",
      "text/html": "<div>\n<style scoped>\n    .dataframe tbody tr th:only-of-type {\n        vertical-align: middle;\n    }\n\n    .dataframe tbody tr th {\n        vertical-align: top;\n    }\n\n    .dataframe thead th {\n        text-align: right;\n    }\n</style>\n<table border=\"1\" class=\"dataframe\">\n  <thead>\n    <tr style=\"text-align: right;\">\n      <th></th>\n      <th>hpwren_timestamp</th>\n      <th>air_temp</th>\n    </tr>\n  </thead>\n  <tbody>\n    <tr>\n      <th>0</th>\n      <td>2011-09-10 00:00:49</td>\n      <td>64.76</td>\n    </tr>\n    <tr>\n      <th>1</th>\n      <td>2011-09-10 01:40:49</td>\n      <td>62.96</td>\n    </tr>\n  </tbody>\n</table>\n</div>"
     },
     "execution_count": 35,
     "metadata": {},
     "output_type": "execute_result"
    }
   ],
   "source": [
    "data_short = data.loc[:, ['hpwren_timestamp', 'air_temp']]\n",
    "data_short.head(2)"
   ],
   "metadata": {
    "collapsed": false,
    "pycharm": {
     "name": "#%%\n"
    }
   }
  },
  {
   "cell_type": "code",
   "execution_count": 36,
   "outputs": [],
   "source": [
    "# X = data.values # Convert to numpy array\n",
    "# sns.scatterplot(X[:,0], X[:,1])\n",
    "# plt.xlabel('hpwren_timestamp')\n",
    "# plt.ylabel('air_temp')\n",
    "# plt.show()"
   ],
   "metadata": {
    "collapsed": false,
    "pycharm": {
     "name": "#%%\n"
    }
   }
  },
  {
   "cell_type": "code",
   "execution_count": 36,
   "outputs": [],
   "source": [],
   "metadata": {
    "collapsed": false,
    "pycharm": {
     "name": "#%%\n"
    }
   }
  }
 ],
 "metadata": {
  "kernelspec": {
   "display_name": "Python 3",
   "language": "python",
   "name": "python3"
  },
  "language_info": {
   "codemirror_mode": {
    "name": "ipython",
    "version": 2
   },
   "file_extension": ".py",
   "mimetype": "text/x-python",
   "name": "python",
   "nbconvert_exporter": "python",
   "pygments_lexer": "ipython2",
   "version": "2.7.6"
  }
 },
 "nbformat": 4,
 "nbformat_minor": 0
}